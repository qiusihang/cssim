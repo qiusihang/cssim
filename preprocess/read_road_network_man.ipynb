{
 "cells": [
  {
   "cell_type": "code",
   "execution_count": 3,
   "metadata": {},
   "outputs": [],
   "source": [
    "from xml.dom.minidom import parse\n",
    "import xml.dom.minidom\n",
    "import latlng\n",
    "import math\n",
    "\n",
    "DOMTree = xml.dom.minidom.parse(\"maps/manhattan.xml\")\n",
    "collection = DOMTree.documentElement\n",
    "\n",
    "nodes = collection.getElementsByTagName(\"node\")\n",
    "ways = collection.getElementsByTagName(\"way\")\n"
   ]
  },
  {
   "cell_type": "code",
   "execution_count": 4,
   "metadata": {},
   "outputs": [
    {
     "name": "stdout",
     "output_type": "stream",
     "text": [
      "1101031\n"
     ]
    }
   ],
   "source": [
    "nodes_ll = {}\n",
    "print(len(nodes))\n",
    "for node in nodes:\n",
    "    nodes_ll[node.getAttribute(\"id\")] = (float(node.getAttribute(\"lat\")),float(node.getAttribute(\"lon\")))"
   ]
  },
  {
   "cell_type": "code",
   "execution_count": 6,
   "metadata": {},
   "outputs": [
    {
     "name": "stdout",
     "output_type": "stream",
     "text": [
      "177829\n"
     ]
    }
   ],
   "source": [
    "print(len(ways))"
   ]
  },
  {
   "cell_type": "code",
   "execution_count": 5,
   "metadata": {},
   "outputs": [],
   "source": [
    "def get_latlng(ref):\n",
    "    return nodes_ll[ref]\n",
    "\n",
    "class node:\n",
    "    \n",
    "    def __init__(self, nd):\n",
    "        self.nd = nd\n",
    "        self.ref = nd.getAttribute(\"ref\")\n",
    "        ll = get_latlng(self.ref)\n",
    "        self.lat = ll[0]\n",
    "        self.lng = ll[1]\n",
    "\n",
    "class road:\n",
    "    \n",
    "    def __init__(self, way, category):\n",
    "        self.way = way\n",
    "        self.category = category\n",
    "        self.nodes = []\n",
    "        for nd in way.getElementsByTagName(\"nd\"):\n",
    "            self.nodes.append(node(nd))\n",
    "    \n",
    "    def get_distance(self, lat, lng):\n",
    "        l = len(self.nodes)\n",
    "        d = 0\n",
    "        mdis = 99999999999\n",
    "        md = 0\n",
    "        for i in range(1,l):\n",
    "            p1 = latlng.Cartesian(0,0)\n",
    "            p2 = latlng.LatLng(lat,lng).get_xy(latlng.LatLng(self.nodes[i-1].lat, self.nodes[i-1].lng))\n",
    "            p3 = latlng.LatLng(lat,lng).get_xy(latlng.LatLng(self.nodes[i].lat, self.nodes[i].lng))\n",
    "            k = ( (p1.x - p2.x)*(p3.x - p2.x) + (p1.y - p2.y)*(p3.y - p2.y) ) / \\\n",
    "                ( (p3.x - p2.x)**2 + (p3.y - p2.y)**2 )\n",
    "            foot = latlng.Cartesian(p2.x + k*(p3.x - p2.x), p2.y + k*(p3.y - p2.y))\n",
    "            if p2.x <= foot.x and foot.x <= p3.x and p2.y <= foot.y and foot.y <= p3.y:\n",
    "                d += math.sqrt( (p2.x-foot.x)**2 + (p2.y-foot.y)**2 )\n",
    "                dis = math.sqrt( foot.x**2 + foot.y**2 )\n",
    "                if dis < mdis:\n",
    "                    mdis = dis\n",
    "                    md = d\n",
    "            else:\n",
    "                d += math.sqrt( (p2.x-p3.x)**2 + (p2.y-p3.y)**2 )\n",
    "        return (mdis, md)\n",
    "        "
   ]
  },
  {
   "cell_type": "code",
   "execution_count": 7,
   "metadata": {},
   "outputs": [],
   "source": [
    "import matplotlib.pyplot as plt\n",
    "\n",
    "roads = []\n",
    "\n",
    "for way in ways:\n",
    "    ndx = []\n",
    "    ndy = []\n",
    "    for tag in way.getElementsByTagName(\"tag\"):\n",
    "        if tag.getAttribute(\"k\") == \"highway\"\\\n",
    "        and (tag.getAttribute(\"v\")==\"motorway\"\\\n",
    "        or tag.getAttribute(\"v\")==\"trunk\"\\\n",
    "        or tag.getAttribute(\"v\")==\"primary\"\\\n",
    "        or tag.getAttribute(\"v\")==\"secondary\"\\\n",
    "        or tag.getAttribute(\"v\")==\"tertiary\"\\\n",
    "        or tag.getAttribute(\"v\")==\"unclassified\"\\\n",
    "        or tag.getAttribute(\"v\")==\"residential\"):\n",
    "            r = road(way, tag.getAttribute(\"v\"))\n",
    "            l = len(r.nodes)\n",
    "            #for i in range(l):\n",
    "            #    ndx.append(r.nodes[i].lng)\n",
    "            #    ndy.append(r.nodes[i].lat)\n",
    "            #plt.plot(ndx, ndy)\n",
    "            roads.append(r)\n",
    "            break\n",
    "#plt.show()"
   ]
  },
  {
   "cell_type": "code",
   "execution_count": 13,
   "metadata": {},
   "outputs": [],
   "source": [
    "import treefinder\n",
    "tf = treefinder.TreeFinder(\"trees_man.csv\")\n"
   ]
  },
  {
   "cell_type": "code",
   "execution_count": 14,
   "metadata": {},
   "outputs": [],
   "source": [
    "roads_new = []\n",
    "for r in roads:\n",
    "    t = False\n",
    "    for p in r.nodes:\n",
    "        tree = tf.find_the_nearest_tree(p.lat, p.lng, 25)\n",
    "        if tree == None:\n",
    "            continue\n",
    "        else:\n",
    "            t = True\n",
    "            break\n",
    "    if t:\n",
    "        roads_new.append(r)\n",
    "roads = roads_new"
   ]
  },
  {
   "cell_type": "code",
   "execution_count": 16,
   "metadata": {},
   "outputs": [],
   "source": [
    "doc = xml.dom.minidom.Document()\n",
    "root = doc.createElement('roads')\n",
    "doc.appendChild(root)\n",
    "for r in roads:\n",
    "    road = doc.createElement('road')\n",
    "    road.setAttribute('category',r.category)\n",
    "    for node in r.nodes:\n",
    "        nd = doc.createElement('node')\n",
    "        nd.setAttribute('ref',str(node.ref))\n",
    "        nd.setAttribute('lat',str(node.lat))\n",
    "        nd.setAttribute('lng',str(node.lng))\n",
    "        road.appendChild(nd)\n",
    "    root.appendChild(road)\n",
    "f = open('road_network_man.xml', 'w')\n",
    "doc.writexml(f, indent='\\t', addindent='\\t', newl='\\n', encoding=\"utf-8\")\n",
    "f.close()"
   ]
  },
  {
   "cell_type": "code",
   "execution_count": null,
   "metadata": {},
   "outputs": [],
   "source": []
  }
 ],
 "metadata": {
  "kernelspec": {
   "display_name": "Python 3",
   "language": "python",
   "name": "python3"
  },
  "language_info": {
   "codemirror_mode": {
    "name": "ipython",
    "version": 3
   },
   "file_extension": ".py",
   "mimetype": "text/x-python",
   "name": "python",
   "nbconvert_exporter": "python",
   "pygments_lexer": "ipython3",
   "version": "3.6.3"
  }
 },
 "nbformat": 4,
 "nbformat_minor": 2
}
