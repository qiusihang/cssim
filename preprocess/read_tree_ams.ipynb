{
 "cells": [
  {
   "cell_type": "code",
   "execution_count": 1,
   "metadata": {},
   "outputs": [],
   "source": [
    "import numpy as np\n",
    "import latlng\n",
    "import treefinder\n",
    "from matplotlib import pyplot as plt\n",
    "import roadnetwork\n",
    "\n",
    "class Tree:\n",
    "    def __init__(self, category, lat, lng):\n",
    "        self.category = category\n",
    "        self.lat = lat\n",
    "        self.lng = lng\n"
   ]
  },
  {
   "cell_type": "code",
   "execution_count": 2,
   "metadata": {},
   "outputs": [],
   "source": [
    "trees = []\n",
    "for i in range(4):\n",
    "    filename = 'trees/BOMEN' + str(i) + '.csv'\n",
    "    f = open(filename, 'r')\n",
    "    t = 0\n",
    "    for line in f:\n",
    "        if t == 0:\n",
    "            t += 1\n",
    "            continue\n",
    "        temp = line.split(';')\n",
    "        if len(temp) < 13:\n",
    "            continue\n",
    "        lat = 2.0 * float(temp[13].replace(',','.').replace('\\\"',''))\n",
    "        lng = 2.0 * float(temp[12].replace(',','.').replace('\\\"',''))\n",
    "        if 52.3333 <= lat and lng <= 4.980:\n",
    "            trees.append(Tree(temp[2],lat,lng))\n",
    "\n",
    "trees.sort(key=lambda x:x.lat*1000+x.lng)\n"
   ]
  },
  {
   "cell_type": "code",
   "execution_count": 3,
   "metadata": {},
   "outputs": [],
   "source": [
    "f = open('trees_ams_all.csv','w')\n",
    "for tree in trees:\n",
    "    f.write(tree.category+';'+str(tree.lat)+';'+str(tree.lng)+'\\n')\n",
    "f.close()"
   ]
  },
  {
   "cell_type": "code",
   "execution_count": 4,
   "metadata": {},
   "outputs": [
    {
     "name": "stdout",
     "output_type": "stream",
     "text": [
      "202877\n",
      "202877\n",
      "129225\n"
     ]
    }
   ],
   "source": [
    "rn = roadnetwork.RoadNetwork(\"road_network_ams.xml\")\n",
    "tf = treefinder.TreeFinder(\"trees_ams_all.csv\")\n",
    "print(len(tf.trees))\n",
    "for road in rn.roads:\n",
    "    cur_pos = road.get_pos_of(0)\n",
    "    while True:\n",
    "        ll = road.get_latlng(cur_pos)\n",
    "        trees = tf.find_trees(ll.lat, ll.lng, 30)\n",
    "        for tree in trees:\n",
    "            tree.id = -1\n",
    "        cur_pos = road.get_pos_from_to(cur_pos, 10)\n",
    "        if cur_pos.tdis < 0:\n",
    "            break\n",
    "del_trees = []\n",
    "tid = 1\n",
    "for tree in tf.trees:\n",
    "    if tree.id < 0:\n",
    "        tree.id = tid\n",
    "        tid += 1\n",
    "    else:\n",
    "        del_trees.append(tree)\n",
    "print(len(tf.trees))\n",
    "for tree in del_trees:\n",
    "    tf.trees.remove(tree)\n",
    "print(len(tf.trees))"
   ]
  },
  {
   "cell_type": "code",
   "execution_count": 5,
   "metadata": {},
   "outputs": [],
   "source": [
    "f = open('trees_ams.csv','w')\n",
    "for tree in tf.trees:\n",
    "    f.write(tree.category+';'+str(tree.lat)+';'+str(tree.lng)+'\\n')\n",
    "f.close()"
   ]
  },
  {
   "cell_type": "code",
   "execution_count": null,
   "metadata": {},
   "outputs": [],
   "source": []
  }
 ],
 "metadata": {
  "kernelspec": {
   "display_name": "Python 3",
   "language": "python",
   "name": "python3"
  },
  "language_info": {
   "codemirror_mode": {
    "name": "ipython",
    "version": 3
   },
   "file_extension": ".py",
   "mimetype": "text/x-python",
   "name": "python",
   "nbconvert_exporter": "python",
   "pygments_lexer": "ipython3",
   "version": "3.6.3"
  }
 },
 "nbformat": 4,
 "nbformat_minor": 2
}
